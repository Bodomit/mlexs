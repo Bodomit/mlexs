{
 "cells": [
  {
   "cell_type": "markdown",
   "metadata": {},
   "source": [
    "# IMDB Dataset"
   ]
  },
  {
   "cell_type": "markdown",
   "metadata": {},
   "source": [
    "The IMDB Dataset consists of 50,000 reviews from the INternet Movie Database. They're are split into 25,000 for training and 25,000 for testing. Each set consists of 50% positive and 50% negative reviews."
   ]
  },
  {
   "cell_type": "markdown",
   "metadata": {},
   "source": [
    "## Loading the Dataset\n",
    "We will only keep the top 10,000 words. Exclusing rare words makes the vector size more managable."
   ]
  },
  {
   "cell_type": "code",
   "execution_count": 1,
   "metadata": {},
   "outputs": [
    {
     "name": "stderr",
     "output_type": "stream",
     "text": [
      "Using TensorFlow backend.\n"
     ]
    }
   ],
   "source": [
    "from keras.datasets import imdb\n",
    "\n",
    "(train_data, train_labels), (test_data, test_labels) = imdb.load_data(num_words=10000)"
   ]
  },
  {
   "cell_type": "code",
   "execution_count": 2,
   "metadata": {},
   "outputs": [
    {
     "name": "stdout",
     "output_type": "stream",
     "text": [
      "[1, 14, 22, 16, 43, 530, 973, 1622, 1385, 65, 458, 4468, 66, 3941, 4, 173, 36, 256, 5, 25, 100, 43, 838, 112, 50, 670, 2, 9, 35, 480, 284, 5, 150, 4, 172, 112, 167, 2, 336, 385, 39, 4, 172, 4536, 1111, 17, 546, 38, 13, 447, 4, 192, 50, 16, 6, 147, 2025, 19, 14, 22, 4, 1920, 4613, 469, 4, 22, 71, 87, 12, 16, 43, 530, 38, 76, 15, 13, 1247, 4, 22, 17, 515, 17, 12, 16, 626, 18, 2, 5, 62, 386, 12, 8, 316, 8, 106, 5, 4, 2223, 5244, 16, 480, 66, 3785, 33, 4, 130, 12, 16, 38, 619, 5, 25, 124, 51, 36, 135, 48, 25, 1415, 33, 6, 22, 12, 215, 28, 77, 52, 5, 14, 407, 16, 82, 2, 8, 4, 107, 117, 5952, 15, 256, 4, 2, 7, 3766, 5, 723, 36, 71, 43, 530, 476, 26, 400, 317, 46, 7, 4, 2, 1029, 13, 104, 88, 4, 381, 15, 297, 98, 32, 2071, 56, 26, 141, 6, 194, 7486, 18, 4, 226, 22, 21, 134, 476, 26, 480, 5, 144, 30, 5535, 18, 51, 36, 28, 224, 92, 25, 104, 4, 226, 65, 16, 38, 1334, 88, 12, 16, 283, 5, 16, 4472, 113, 103, 32, 15, 16, 5345, 19, 178, 32]\n"
     ]
    }
   ],
   "source": [
    "print(train_data[0])"
   ]
  },
  {
   "cell_type": "markdown",
   "metadata": {},
   "source": [
    "Because we can, here's how to decode the the reviews back into English:"
   ]
  },
  {
   "cell_type": "code",
   "execution_count": 3,
   "metadata": {},
   "outputs": [
    {
     "name": "stdout",
     "output_type": "stream",
     "text": [
      "? this film was just brilliant casting location scenery story direction everyone's really suited the part they played and you could just imagine being there robert ? is an amazing actor and now the same being director ? father came from the same scottish island as myself so i loved the fact there was a real connection with this film the witty remarks throughout the film were great it was just brilliant so much that i bought the film as soon as it was released for ? and would recommend it to everyone to watch and the fly fishing was amazing really cried at the end it was so sad and you know what they say if you cry at a film it must have been good and this definitely was also ? to the two little boy's that played the ? of norman and paul they were just brilliant children are often left out of the ? list i think because the stars that play them all grown up are such a big profile for the whole film but these children are amazing and should be praised for what they have done don't you think the whole story was so lovely because it was true and was someone's life after all that was shared with us all\n"
     ]
    }
   ],
   "source": [
    "word_index = imdb.get_word_index()\n",
    "reverse_word_index = dict([(value, key) for (key, value) in word_index.items()])\n",
    "decoded_review = ' '.join([reverse_word_index.get(i - 3, '?') for i in train_data[0]])\n",
    "print(decoded_review)"
   ]
  },
  {
   "cell_type": "markdown",
   "metadata": {},
   "source": [
    "## Preparing the Data\n",
    "We can't feed a list of integers into a neural network. We have to turn the lists into tensors. There are two ways to do this:\n",
    "\n",
    "- Pad the lists so they are all the same length, turning them into an integer tensor and then having a first layer that can handle such tensors (the Embedding tensor).\n",
    "- One-hot encode the lists.\n",
    "\n",
    "We will do the latter. We will do this manually for clarity."
   ]
  },
  {
   "cell_type": "code",
   "execution_count": 4,
   "metadata": {},
   "outputs": [],
   "source": [
    "import numpy as np\n",
    "\n",
    "def vectorize_sequences(sequences, dimension=10000):\n",
    "    results = np.zeros((len(sequences), dimension))\n",
    "    for i, sequence in enumerate(sequences):\n",
    "        results[i, sequence] = 1.\n",
    "    return results\n",
    "\n",
    "x_train = vectorize_sequences(train_data)\n",
    "x_test = vectorize_sequences(test_data)\n",
    "\n",
    "y_train = np.asarray(train_labels).astype('float32')\n",
    "y_test = np.asarray(test_labels).astype('float32')"
   ]
  },
  {
   "cell_type": "code",
   "execution_count": 5,
   "metadata": {},
   "outputs": [
    {
     "data": {
      "text/plain": [
       "array([0., 1., 1., ..., 0., 0., 0.])"
      ]
     },
     "execution_count": 5,
     "metadata": {},
     "output_type": "execute_result"
    }
   ],
   "source": [
    "x_train[0]"
   ]
  },
  {
   "cell_type": "markdown",
   "metadata": {},
   "source": [
    "## Building the Model\n",
    "Our model will consist of two hidden Dense layers with 16 units each, activated by the ReLU function. The output layer will contain a single unit activated by the Sigmoid function, giving a probability whether the review is positive or negative."
   ]
  },
  {
   "cell_type": "code",
   "execution_count": 6,
   "metadata": {},
   "outputs": [],
   "source": [
    "from keras import models\n",
    "from keras import layers\n",
    "\n",
    "model = models.Sequential()\n",
    "model.add(layers.Dense(16, activation='relu', input_shape=(10000,)))\n",
    "model.add(layers.Dense(16, activation='relu'))\n",
    "model.add(layers.Dense(1, activation='sigmoid'))"
   ]
  },
  {
   "cell_type": "markdown",
   "metadata": {},
   "source": [
    "Because our output is a binary probability, it is best to use the `binary_crossentropy` loss function. Crossentropy is usually the best choice when dealing with probabilities: it's from the field of Information Theory and measures the the distance between two probability distributions or, in our case, between the ground-truth distribution and our predictions."
   ]
  },
  {
   "cell_type": "code",
   "execution_count": 7,
   "metadata": {},
   "outputs": [],
   "source": [
    "model.compile(optimizer='rmsprop',\n",
    "              loss='binary_crossentropy',\n",
    "              metrics=['accuracy'])"
   ]
  },
  {
   "cell_type": "markdown",
   "metadata": {},
   "source": [
    "## Validating our Approach\n",
    "In order to monitor during training we need to set aside a validation set.\n"
   ]
  },
  {
   "cell_type": "code",
   "execution_count": 8,
   "metadata": {},
   "outputs": [],
   "source": [
    "x_val = x_train[:10000]\n",
    "partial_x_train = x_train[10000:]\n",
    "\n",
    "y_val = y_train[:10000]\n",
    "partial_y_train = y_train[10000:]"
   ]
  },
  {
   "cell_type": "code",
   "execution_count": 9,
   "metadata": {},
   "outputs": [
    {
     "name": "stdout",
     "output_type": "stream",
     "text": [
      "Train on 15000 samples, validate on 10000 samples\n",
      "Epoch 1/20\n",
      "15000/15000 [==============================] - 4s 246us/step - loss: 0.5083 - acc: 0.7819 - val_loss: 0.3788 - val_acc: 0.8690\n",
      "Epoch 2/20\n",
      "15000/15000 [==============================] - 2s 125us/step - loss: 0.3002 - acc: 0.9045 - val_loss: 0.3000 - val_acc: 0.8900\n",
      "Epoch 3/20\n",
      "15000/15000 [==============================] - 2s 126us/step - loss: 0.2178 - acc: 0.9283 - val_loss: 0.3085 - val_acc: 0.8716\n",
      "Epoch 4/20\n",
      "15000/15000 [==============================] - 2s 131us/step - loss: 0.1750 - acc: 0.9437 - val_loss: 0.2839 - val_acc: 0.8839\n",
      "Epoch 5/20\n",
      "15000/15000 [==============================] - 2s 131us/step - loss: 0.1425 - acc: 0.9543 - val_loss: 0.2850 - val_acc: 0.8864\n",
      "Epoch 6/20\n",
      "15000/15000 [==============================] - 2s 145us/step - loss: 0.1149 - acc: 0.9651 - val_loss: 0.3170 - val_acc: 0.8777\n",
      "Epoch 7/20\n",
      "15000/15000 [==============================] - 2s 126us/step - loss: 0.0978 - acc: 0.9710 - val_loss: 0.3129 - val_acc: 0.8845\n",
      "Epoch 8/20\n",
      "15000/15000 [==============================] - 2s 127us/step - loss: 0.0807 - acc: 0.9764 - val_loss: 0.3862 - val_acc: 0.8652\n",
      "Epoch 9/20\n",
      "15000/15000 [==============================] - 2s 126us/step - loss: 0.0660 - acc: 0.9820 - val_loss: 0.3636 - val_acc: 0.8785\n",
      "Epoch 10/20\n",
      "15000/15000 [==============================] - 2s 126us/step - loss: 0.0556 - acc: 0.9853 - val_loss: 0.3845 - val_acc: 0.8787\n",
      "Epoch 11/20\n",
      "15000/15000 [==============================] - 2s 127us/step - loss: 0.0446 - acc: 0.9887 - val_loss: 0.4164 - val_acc: 0.8768\n",
      "Epoch 12/20\n",
      "15000/15000 [==============================] - 2s 126us/step - loss: 0.0384 - acc: 0.9915 - val_loss: 0.4514 - val_acc: 0.8698\n",
      "Epoch 13/20\n",
      "15000/15000 [==============================] - 2s 126us/step - loss: 0.0297 - acc: 0.9929 - val_loss: 0.4706 - val_acc: 0.8734\n",
      "Epoch 14/20\n",
      "15000/15000 [==============================] - 2s 126us/step - loss: 0.0245 - acc: 0.9949 - val_loss: 0.5037 - val_acc: 0.8722\n",
      "Epoch 15/20\n",
      "15000/15000 [==============================] - 2s 127us/step - loss: 0.0173 - acc: 0.9981 - val_loss: 0.5523 - val_acc: 0.8670\n",
      "Epoch 16/20\n",
      "15000/15000 [==============================] - 2s 127us/step - loss: 0.0160 - acc: 0.9972 - val_loss: 0.5777 - val_acc: 0.8690\n",
      "Epoch 17/20\n",
      "15000/15000 [==============================] - 2s 127us/step - loss: 0.0093 - acc: 0.9993 - val_loss: 0.6406 - val_acc: 0.8607\n",
      "Epoch 18/20\n",
      "15000/15000 [==============================] - 2s 126us/step - loss: 0.0101 - acc: 0.9986 - val_loss: 0.6465 - val_acc: 0.8667\n",
      "Epoch 19/20\n",
      "15000/15000 [==============================] - 2s 127us/step - loss: 0.0079 - acc: 0.9989 - val_loss: 0.6784 - val_acc: 0.8662\n",
      "Epoch 20/20\n",
      "15000/15000 [==============================] - 2s 128us/step - loss: 0.0090 - acc: 0.9982 - val_loss: 0.7035 - val_acc: 0.8655\n"
     ]
    }
   ],
   "source": [
    "model.compile(optimizer='rmsprop',\n",
    "              loss='binary_crossentropy',\n",
    "              metrics=['accuracy'])\n",
    "\n",
    "history = model.fit(partial_x_train,\n",
    "                    partial_y_train,\n",
    "                    epochs=20,\n",
    "                    batch_size=512,\n",
    "                    validation_data=(x_val, y_val))"
   ]
  },
  {
   "cell_type": "markdown",
   "metadata": {},
   "source": [
    "`model.fit()` returns a `History` object, which has a `history` member, which is a dictionary containing data about everything that happened during training."
   ]
  },
  {
   "cell_type": "code",
   "execution_count": 10,
   "metadata": {},
   "outputs": [
    {
     "data": {
      "text/plain": [
       "dict_keys(['val_loss', 'val_acc', 'loss', 'acc'])"
      ]
     },
     "execution_count": 10,
     "metadata": {},
     "output_type": "execute_result"
    }
   ],
   "source": [
    "history_dict = history.history\n",
    "history_dict.keys()"
   ]
  },
  {
   "cell_type": "markdown",
   "metadata": {},
   "source": [
    "We can use Matplotlib to plot the training and validation loss, as well as the training and validation accuracy side-by-side."
   ]
  },
  {
   "cell_type": "code",
   "execution_count": 11,
   "metadata": {},
   "outputs": [
    {
     "data": {
      "text/plain": [
       "<Figure size 640x480 with 1 Axes>"
      ]
     },
     "metadata": {},
     "output_type": "display_data"
    }
   ],
   "source": [
    "import matplotlib.pyplot as plt\n",
    "history_dict = history.history\n",
    "loss_values = history_dict['loss']\n",
    "val_loss_values = history_dict['val_loss']\n",
    "\n",
    "epochs = range(1, len(loss_values) + 1)\n",
    "\n",
    "plt.plot(epochs, loss_values, 'bo', label='Training loss')\n",
    "plt.plot(epochs, val_loss_values, 'b', label='Validation loss')\n",
    "plt.title('Training and validation loss')\n",
    "plt.xlabel('Epochs')\n",
    "plt.ylabel('Loss')\n",
    "plt.legend()\n",
    "\n",
    "plt.show()"
   ]
  },
  {
   "cell_type": "code",
   "execution_count": 12,
   "metadata": {},
   "outputs": [
    {
     "data": {
      "image/png": "[encoded data removed]",
      "text/plain": [
       "<Figure size 432x288 with 1 Axes>"
      ]
     },
     "metadata": {},
     "output_type": "display_data"
    }
   ],
   "source": [
    "plt.clf()\n",
    "\n",
    "acc_values = history_dict['acc']\n",
    "val_acc_values = history_dict['val_acc']\n",
    "\n",
    "plt.plot(epochs, acc_values, 'bo', label='Training acc')\n",
    "plt.plot(epochs, val_acc_values, 'b', label='Validation acc')\n",
    "plt.title('Training and validation accuracy')\n",
    "plt.xlabel('Epochs')\n",
    "plt.ylabel('Loss')\n",
    "plt.legend()\n",
    "\n",
    "plt.show()"
   ]
  },
  {
   "cell_type": "markdown",
   "metadata": {},
   "source": [
    "Our model is overfitting. The Validation loss is minimised around 4 epochs, so lets create a new network and only train it for 4 epochs."
   ]
  },
  {
   "cell_type": "code",
   "execution_count": 13,
   "metadata": {},
   "outputs": [
    {
     "name": "stdout",
     "output_type": "stream",
     "text": [
      "Epoch 1/4\n",
      "25000/25000 [==============================] - 2s 90us/step - loss: 0.4738 - acc: 0.8211\n",
      "Epoch 2/4\n",
      "25000/25000 [==============================] - 2s 85us/step - loss: 0.2673 - acc: 0.9090\n",
      "Epoch 3/4\n",
      "25000/25000 [==============================] - 2s 85us/step - loss: 0.2032 - acc: 0.9283\n",
      "Epoch 4/4\n",
      "25000/25000 [==============================] - 2s 85us/step - loss: 0.1714 - acc: 0.9383\n",
      "25000/25000 [==============================] - 2s 89us/step\n",
      "[0.31201616179466246, 0.87556]\n"
     ]
    }
   ],
   "source": [
    "model = models.Sequential()\n",
    "model.add(layers.Dense(16, activation='relu', input_shape=(10000,)))\n",
    "model.add(layers.Dense(16, activation='relu'))\n",
    "model.add(layers.Dense(1, activation='sigmoid'))\n",
    "\n",
    "model.compile(optimizer='rmsprop',\n",
    "              loss='binary_crossentropy',\n",
    "              metrics=['accuracy'])\n",
    "\n",
    "model.fit(x_train, y_train, epochs=4, batch_size=512)\n",
    "results = model.evaluate(x_test, y_test)\n",
    "print(results)"
   ]
  },
  {
   "cell_type": "markdown",
   "metadata": {},
   "source": [
    "## Using a trained network to generate predictions on new data\n",
    "After having trained the network, we want to use it in a practical setting. We can generate the likelyhood of reviews being positive by using the `predict` method."
   ]
  },
  {
   "cell_type": "code",
   "execution_count": 14,
   "metadata": {},
   "outputs": [
    {
     "data": {
      "text/plain": [
       "array([[0.15989453],\n",
       "       [0.99983084],\n",
       "       [0.39102396],\n",
       "       ...,\n",
       "       [0.08095765],\n",
       "       [0.04848762],\n",
       "       [0.45435554]], dtype=float32)"
      ]
     },
     "execution_count": 14,
     "metadata": {},
     "output_type": "execute_result"
    }
   ],
   "source": [
    "model.predict(x_test)"
   ]
  },
  {
   "cell_type": "markdown",
   "metadata": {},
   "source": [
    "# Classifying Newswires\n",
    "Previously we classfied vector inputs into two mutually exclusive classes. Here's what to do when we've more than two."
   ]
  },
  {
   "cell_type": "markdown",
   "metadata": {},
   "source": [
    "## The Reuters Dataset\n",
    "This is a toy dataset released in 1986 containing short newswires and ther topics. It contains 46 different topics, with at least 10 examples each in the training set."
   ]
  },
  {
   "cell_type": "code",
   "execution_count": 15,
   "metadata": {},
   "outputs": [
    {
     "name": "stdout",
     "output_type": "stream",
     "text": [
      "[1, 2, 2, 8, 43, 10, 447, 5, 25, 207, 270, 5, 3095, 111, 16, 369, 186, 90, 67, 7, 89, 5, 19, 102, 6, 19, 124, 15, 90, 67, 84, 22, 482, 26, 7, 48, 4, 49, 8, 864, 39, 209, 154, 6, 151, 6, 83, 11, 15, 22, 155, 11, 15, 7, 48, 9, 4579, 1005, 504, 6, 258, 6, 272, 11, 15, 22, 134, 44, 11, 15, 16, 8, 197, 1245, 90, 67, 52, 29, 209, 30, 32, 132, 6, 109, 15, 17, 12]\n"
     ]
    }
   ],
   "source": [
    "from keras.datasets import reuters\n",
    "\n",
    "(train_data, train_labels), (test_data, test_labels) = reuters.load_data(num_words=10000)\n",
    "\n",
    "print(train_data[0])"
   ]
  },
  {
   "cell_type": "markdown",
   "metadata": {},
   "source": [
    "Like with the IMDB dataset, we can convert the integer vector back into words."
   ]
  },
  {
   "cell_type": "code",
   "execution_count": 16,
   "metadata": {},
   "outputs": [
    {
     "name": "stdout",
     "output_type": "stream",
     "text": [
      "? ? ? said as a result of its december acquisition of space co it expects earnings per share in 1987 of 1 15 to 1 30 dlrs per share up from 70 cts in 1986 the company said pretax net should rise to nine to 10 mln dlrs from six mln dlrs in 1986 and rental operation revenues to 19 to 22 mln dlrs from 12 5 mln dlrs it said cash flow per share this year should be 2 50 to three dlrs reuter 3\n"
     ]
    }
   ],
   "source": [
    "word_index = reuters.get_word_index()\n",
    "reverse_word_index = dict([(value, key) for (key, value) in word_index.items()])\n",
    "decoded_newswire = ' '.join([reverse_word_index.get(i - 3, '?') for i in train_data[0]])\n",
    "print(decoded_newswire)"
   ]
  },
  {
   "cell_type": "markdown",
   "metadata": {},
   "source": [
    "## Preparing the Data"
   ]
  },
  {
   "cell_type": "code",
   "execution_count": 17,
   "metadata": {},
   "outputs": [],
   "source": [
    "import numpy as np\n",
    "from keras.utils.np_utils import to_categorical\n",
    "\n",
    "# Vectorise the integers like in the last example.\n",
    "def vectorise_sequences(sequences, dimension=10000):\n",
    "    results = np.zeros((len(sequences), dimension))\n",
    "    for i, sequence in enumerate(sequences):\n",
    "        results[i, sequence] = 1.\n",
    "    return results\n",
    "\n",
    "x_train = vectorise_sequences(train_data)\n",
    "x_test = vectorise_sequences(test_data)\n",
    "\n",
    "# Vectorise the labels by one-hot encoding them.\n",
    "one_hot_train_labels = to_categorical(train_labels)\n",
    "one_hot_test_labels = to_categorical(test_labels)"
   ]
  },
  {
   "cell_type": "markdown",
   "metadata": {},
   "source": [
    "## Building the network\n",
    "Because we have 46 output classes now, we'll increase the number of hidden units from 16 to 64. Also, our final dense layer has 46 units (one per class), and the activation function is now the softmax, which results in a probability distribution."
   ]
  },
  {
   "cell_type": "code",
   "execution_count": 18,
   "metadata": {},
   "outputs": [],
   "source": [
    "from keras import models\n",
    "from keras import layers\n",
    "\n",
    "model = models.Sequential()\n",
    "model.add(layers.Dense(64, activation='relu', input_shape=(10000,)))\n",
    "model.add(layers.Dense(64, activation='relu'))\n",
    "model.add(layers.Dense(46, activation='softmax'))"
   ]
  },
  {
   "cell_type": "markdown",
   "metadata": {},
   "source": [
    "The best loss function to use here is `categorical_crossentropy`, whih measures the distance between two probability distributions."
   ]
  },
  {
   "cell_type": "code",
   "execution_count": 19,
   "metadata": {},
   "outputs": [],
   "source": [
    "model.compile(optimizer='rmsprop',\n",
    "              loss='categorical_crossentropy',\n",
    "              metrics=['accuracy'])"
   ]
  },
  {
   "cell_type": "markdown",
   "metadata": {},
   "source": [
    "## Validating our Approach"
   ]
  },
  {
   "cell_type": "code",
   "execution_count": 20,
   "metadata": {},
   "outputs": [],
   "source": [
    "x_val = x_train[:1000]\n",
    "partial_x_train = x_train[1000:]\n",
    "\n",
    "y_val = one_hot_train_labels[:1000]\n",
    "partial_y_train = one_hot_train_labels[1000:]"
   ]
  },
  {
   "cell_type": "code",
   "execution_count": 21,
   "metadata": {},
   "outputs": [
    {
     "name": "stdout",
     "output_type": "stream",
     "text": [
      "Train on 7982 samples, validate on 1000 samples\n",
      "Epoch 1/20\n",
      "7982/7982 [==============================] - 2s 221us/step - loss: 2.5241 - acc: 0.4977 - val_loss: 1.7183 - val_acc: 0.6120\n",
      "Epoch 2/20\n",
      "7982/7982 [==============================] - 1s 173us/step - loss: 1.4443 - acc: 0.6889 - val_loss: 1.3496 - val_acc: 0.7090\n",
      "Epoch 3/20\n",
      "7982/7982 [==============================] - 1s 176us/step - loss: 1.0993 - acc: 0.7641 - val_loss: 1.1745 - val_acc: 0.7430\n",
      "Epoch 4/20\n",
      "7982/7982 [==============================] - 1s 174us/step - loss: 0.8729 - acc: 0.8157 - val_loss: 1.0842 - val_acc: 0.7580\n",
      "Epoch 5/20\n",
      "7982/7982 [==============================] - 1s 174us/step - loss: 0.7061 - acc: 0.8490 - val_loss: 0.9868 - val_acc: 0.7820\n",
      "Epoch 6/20\n",
      "7982/7982 [==============================] - 1s 173us/step - loss: 0.5696 - acc: 0.8790 - val_loss: 0.9421 - val_acc: 0.8040\n",
      "Epoch 7/20\n",
      "7982/7982 [==============================] - 1s 173us/step - loss: 0.4626 - acc: 0.9034 - val_loss: 0.9089 - val_acc: 0.8020\n",
      "Epoch 8/20\n",
      "7982/7982 [==============================] - 1s 175us/step - loss: 0.3728 - acc: 0.9226 - val_loss: 0.9349 - val_acc: 0.7890\n",
      "Epoch 9/20\n",
      "7982/7982 [==============================] - 1s 177us/step - loss: 0.3052 - acc: 0.9315 - val_loss: 0.8912 - val_acc: 0.8040\n",
      "Epoch 10/20\n",
      "7982/7982 [==============================] - 1s 174us/step - loss: 0.2548 - acc: 0.9412 - val_loss: 0.9049 - val_acc: 0.8130\n",
      "Epoch 11/20\n",
      "7982/7982 [==============================] - 1s 174us/step - loss: 0.2192 - acc: 0.9474 - val_loss: 0.9167 - val_acc: 0.8120\n",
      "Epoch 12/20\n",
      "7982/7982 [==============================] - 1s 174us/step - loss: 0.1878 - acc: 0.9513 - val_loss: 0.9062 - val_acc: 0.8130\n",
      "Epoch 13/20\n",
      "7982/7982 [==============================] - 1s 175us/step - loss: 0.1707 - acc: 0.9524 - val_loss: 0.9295 - val_acc: 0.8090\n",
      "Epoch 14/20\n",
      "7982/7982 [==============================] - 1s 174us/step - loss: 0.1536 - acc: 0.9555 - val_loss: 0.9630 - val_acc: 0.8050\n",
      "Epoch 15/20\n",
      "7982/7982 [==============================] - 1s 173us/step - loss: 0.1393 - acc: 0.9563 - val_loss: 0.9680 - val_acc: 0.8120\n",
      "Epoch 16/20\n",
      "7982/7982 [==============================] - 1s 174us/step - loss: 0.1318 - acc: 0.9558 - val_loss: 1.0242 - val_acc: 0.8040\n",
      "Epoch 17/20\n",
      "7982/7982 [==============================] - 1s 174us/step - loss: 0.1220 - acc: 0.9579 - val_loss: 1.0288 - val_acc: 0.7980\n",
      "Epoch 18/20\n",
      "7982/7982 [==============================] - 1s 175us/step - loss: 0.1199 - acc: 0.9572 - val_loss: 1.0408 - val_acc: 0.8040\n",
      "Epoch 19/20\n",
      "7982/7982 [==============================] - 1s 174us/step - loss: 0.1140 - acc: 0.9594 - val_loss: 1.0949 - val_acc: 0.7960\n",
      "Epoch 20/20\n",
      "7982/7982 [==============================] - 1s 173us/step - loss: 0.1112 - acc: 0.9597 - val_loss: 1.0662 - val_acc: 0.8000\n"
     ]
    }
   ],
   "source": [
    "history = model.fit(partial_x_train,\n",
    "                    partial_y_train,\n",
    "                    epochs=20,\n",
    "                    batch_size=512,\n",
    "                    validation_data=(x_val, y_val))"
   ]
  },
  {
   "cell_type": "code",
   "execution_count": 22,
   "metadata": {},
   "outputs": [
    {
     "data": {
      "image/png": "[encoded data removed]",
      "text/plain": [
       "<Figure size 432x288 with 1 Axes>"
      ]
     },
     "metadata": {},
     "output_type": "display_data"
    }
   ],
   "source": [
    "import matplotlib.pyplot as plt\n",
    "\n",
    "loss = history.history['loss']\n",
    "val_loss = history.history['val_loss']\n",
    "\n",
    "epochs = range(1, len(loss) + 1)\n",
    "\n",
    "plt.plot(epochs, loss, 'bo', label='Training loss')\n",
    "plt.plot(epochs, val_loss, 'b', label='Validation loss')\n",
    "plt.title('Training and validation loss')\n",
    "plt.xlabel('Epochs')\n",
    "plt.ylabel('Loss')\n",
    "plt.legend()\n",
    "\n",
    "plt.show()"
   ]
  },
  {
   "cell_type": "code",
   "execution_count": 23,
   "metadata": {},
   "outputs": [
    {
     "data": {
      "image/png": "[encoded data removed]",
      "text/plain": [
       "<Figure size 432x288 with 1 Axes>"
      ]
     },
     "metadata": {},
     "output_type": "display_data"
    }
   ],
   "source": [
    "plt.clf()\n",
    "\n",
    "acc = history.history['acc']\n",
    "val_acc = history.history['val_acc']\n",
    "\n",
    "plt.plot(epochs, acc, 'bo', label='Training acc')\n",
    "plt.plot(epochs, val_acc, 'b', label='Validation acc')\n",
    "plt.title('Training and validation accuracy')\n",
    "plt.xlabel('Epochs')\n",
    "plt.ylabel('Loss')\n",
    "plt.legend()\n",
    "\n",
    "plt.show()"
   ]
  },
  {
   "cell_type": "markdown",
   "metadata": {},
   "source": [
    "The network starts overfitting at around 9 epochs, so lets train a network from scratch and stop it there."
   ]
  },
  {
   "cell_type": "code",
   "execution_count": 24,
   "metadata": {},
   "outputs": [
    {
     "name": "stdout",
     "output_type": "stream",
     "text": [
      "Epoch 1/9\n",
      "8982/8982 [==============================] - 2s 179us/step - loss: 2.4437 - acc: 0.5332\n",
      "Epoch 2/9\n",
      "8982/8982 [==============================] - 1s 161us/step - loss: 1.3241 - acc: 0.7161\n",
      "Epoch 3/9\n",
      "8982/8982 [==============================] - 1s 165us/step - loss: 0.9744 - acc: 0.7869\n",
      "Epoch 4/9\n",
      "8982/8982 [==============================] - 1s 162us/step - loss: 0.7565 - acc: 0.8390\n",
      "Epoch 5/9\n",
      "8982/8982 [==============================] - 1s 162us/step - loss: 0.5963 - acc: 0.8764\n",
      "Epoch 6/9\n",
      "8982/8982 [==============================] - 1s 162us/step - loss: 0.4751 - acc: 0.9009\n",
      "Epoch 7/9\n",
      "8982/8982 [==============================] - 1s 161us/step - loss: 0.3831 - acc: 0.9175\n",
      "Epoch 8/9\n",
      "8982/8982 [==============================] - 1s 163us/step - loss: 0.3076 - acc: 0.9348\n",
      "Epoch 9/9\n",
      "8982/8982 [==============================] - 1s 164us/step - loss: 0.2591 - acc: 0.9414\n",
      "2246/2246 [==============================] - 0s 196us/step\n",
      "[0.9800314332158674, 0.7902938557966204]\n"
     ]
    }
   ],
   "source": [
    "from keras import models\n",
    "from keras import layers\n",
    "\n",
    "model = models.Sequential()\n",
    "model.add(layers.Dense(64, activation='relu', input_shape=(10000,)))\n",
    "model.add(layers.Dense(64, activation='relu'))\n",
    "model.add(layers.Dense(46, activation='softmax'))\n",
    "\n",
    "model.compile(optimizer='rmsprop',\n",
    "              loss='categorical_crossentropy',\n",
    "              metrics=['accuracy'])\n",
    "\n",
    "model.fit(x_train,\n",
    "          one_hot_train_labels,\n",
    "          epochs=9,\n",
    "          batch_size=512)\n",
    "\n",
    "results = model.evaluate(x_test, one_hot_test_labels)\n",
    "print(results)"
   ]
  },
  {
   "cell_type": "markdown",
   "metadata": {},
   "source": [
    "This gives us an accuracy of ~79%. This seems pretty good as a purely random classifier would be closer to 19% (as shown below):"
   ]
  },
  {
   "cell_type": "code",
   "execution_count": 25,
   "metadata": {},
   "outputs": [
    {
     "data": {
      "text/plain": [
       "0.19723953695458593"
      ]
     },
     "execution_count": 25,
     "metadata": {},
     "output_type": "execute_result"
    }
   ],
   "source": [
    "import copy\n",
    "test_labels_copy = copy.copy(test_labels)\n",
    "np.random.shuffle(test_labels_copy)\n",
    "hits_array = np.array(test_labels) == np.array(test_labels_copy)\n",
    "float(np.sum(hits_array)) / len(test_labels)"
   ]
  },
  {
   "cell_type": "markdown",
   "metadata": {},
   "source": [
    "## Generating Predictions on New Data"
   ]
  },
  {
   "cell_type": "code",
   "execution_count": 26,
   "metadata": {},
   "outputs": [],
   "source": [
    "predictions = model.predict(x_test)"
   ]
  },
  {
   "cell_type": "markdown",
   "metadata": {},
   "source": [
    "Each entry in `predictions` is a vector of length 46."
   ]
  },
  {
   "cell_type": "code",
   "execution_count": 27,
   "metadata": {},
   "outputs": [
    {
     "data": {
      "text/plain": [
       "(46,)"
      ]
     },
     "execution_count": 27,
     "metadata": {},
     "output_type": "execute_result"
    }
   ],
   "source": [
    "predictions[0].shape"
   ]
  },
  {
   "cell_type": "markdown",
   "metadata": {},
   "source": [
    "The sum of the coefficients in this vector sum to 1."
   ]
  },
  {
   "cell_type": "code",
   "execution_count": 28,
   "metadata": {},
   "outputs": [
    {
     "data": {
      "text/plain": [
       "0.99999976"
      ]
     },
     "execution_count": 28,
     "metadata": {},
     "output_type": "execute_result"
    }
   ],
   "source": [
    "np.sum(predictions[0])"
   ]
  },
  {
   "cell_type": "code",
   "execution_count": 29,
   "metadata": {},
   "outputs": [
    {
     "data": {
      "text/plain": [
       "3"
      ]
     },
     "execution_count": 29,
     "metadata": {},
     "output_type": "execute_result"
    }
   ],
   "source": [
    "np.argmax(predictions[0])"
   ]
  },
  {
   "cell_type": "markdown",
   "metadata": {},
   "source": [
    "## A different way to handle the labels and the loss"
   ]
  },
  {
   "cell_type": "markdown",
   "metadata": {},
   "source": [
    "Instead of one-hot encoding the labels like we did earlier, we could instead simple cast the labels to integer tensors like so."
   ]
  },
  {
   "cell_type": "code",
   "execution_count": 30,
   "metadata": {},
   "outputs": [],
   "source": [
    "y_train = np.array(train_labels)\n",
    "y_test = np.array(test_labels)"
   ]
  },
  {
   "cell_type": "markdown",
   "metadata": {},
   "source": [
    "The only thing this approach changes is the choice of loss function. `categorical_crossentropy` expects the labels follow a categorical encoding. With integer labels, you should use `sparse_categorical_crossentropy`."
   ]
  },
  {
   "cell_type": "code",
   "execution_count": 31,
   "metadata": {},
   "outputs": [],
   "source": [
    "model.compile(optimizer='rmsprop',\n",
    "              loss='sparse_categorical_crossentropy',\n",
    "              metrics=['acc'])"
   ]
  },
  {
   "cell_type": "markdown",
   "metadata": {},
   "source": [
    "This function is mathimatically the same as the previous: it just has a different interface."
   ]
  },
  {
   "cell_type": "markdown",
   "metadata": {},
   "source": [
    "## The importance of having sufficiently large intermediate layers."
   ]
  },
  {
   "cell_type": "code",
   "execution_count": 32,
   "metadata": {},
   "outputs": [
    {
     "name": "stdout",
     "output_type": "stream",
     "text": [
      "Train on 7982 samples, validate on 1000 samples\n",
      "Epoch 1/20\n",
      "7982/7982 [==============================] - 2s 245us/step - loss: 3.2343 - acc: 0.1244 - val_loss: 2.7022 - val_acc: 0.4120\n",
      "Epoch 2/20\n",
      "7982/7982 [==============================] - 2s 248us/step - loss: 2.0997 - acc: 0.5876 - val_loss: 1.8069 - val_acc: 0.6210\n",
      "Epoch 3/20\n",
      "7982/7982 [==============================] - 2s 198us/step - loss: 1.5339 - acc: 0.6310 - val_loss: 1.5919 - val_acc: 0.6330\n",
      "Epoch 4/20\n",
      "7982/7982 [==============================] - 2s 197us/step - loss: 1.3519 - acc: 0.6406 - val_loss: 1.5242 - val_acc: 0.6330\n",
      "Epoch 5/20\n",
      "7982/7982 [==============================] - 2s 199us/step - loss: 1.2434 - acc: 0.6559 - val_loss: 1.5001 - val_acc: 0.6500\n",
      "Epoch 6/20\n",
      "7982/7982 [==============================] - 2s 197us/step - loss: 1.1680 - acc: 0.6848 - val_loss: 1.4752 - val_acc: 0.6610\n",
      "Epoch 7/20\n",
      "7982/7982 [==============================] - 2s 197us/step - loss: 1.1058 - acc: 0.6938 - val_loss: 1.4819 - val_acc: 0.6680\n",
      "Epoch 8/20\n",
      "7982/7982 [==============================] - 2s 197us/step - loss: 1.0515 - acc: 0.7101 - val_loss: 1.5313 - val_acc: 0.6570\n",
      "Epoch 9/20\n",
      "7982/7982 [==============================] - 2s 206us/step - loss: 1.0054 - acc: 0.7219 - val_loss: 1.5320 - val_acc: 0.6590\n",
      "Epoch 10/20\n",
      "7982/7982 [==============================] - 2s 213us/step - loss: 0.9630 - acc: 0.7319 - val_loss: 1.5474 - val_acc: 0.6640\n",
      "Epoch 11/20\n",
      "7982/7982 [==============================] - 2s 208us/step - loss: 0.9262 - acc: 0.7359 - val_loss: 1.5860 - val_acc: 0.6620\n",
      "Epoch 12/20\n",
      "7982/7982 [==============================] - 2s 211us/step - loss: 0.8927 - acc: 0.7378 - val_loss: 1.6450 - val_acc: 0.6640\n",
      "Epoch 13/20\n",
      "7982/7982 [==============================] - 2s 214us/step - loss: 0.8622 - acc: 0.7425 - val_loss: 1.7036 - val_acc: 0.6710\n",
      "Epoch 14/20\n",
      "7982/7982 [==============================] - 2s 212us/step - loss: 0.8292 - acc: 0.7592 - val_loss: 1.6985 - val_acc: 0.6750\n",
      "Epoch 15/20\n",
      "7982/7982 [==============================] - 2s 209us/step - loss: 0.8062 - acc: 0.7759 - val_loss: 1.7236 - val_acc: 0.6730\n",
      "Epoch 16/20\n",
      "7982/7982 [==============================] - 2s 215us/step - loss: 0.7790 - acc: 0.7801 - val_loss: 1.7675 - val_acc: 0.6780\n",
      "Epoch 17/20\n",
      "7982/7982 [==============================] - 2s 208us/step - loss: 0.7594 - acc: 0.7808 - val_loss: 1.8013 - val_acc: 0.6770\n",
      "Epoch 18/20\n",
      "7982/7982 [==============================] - 2s 206us/step - loss: 0.7387 - acc: 0.7841 - val_loss: 1.8550 - val_acc: 0.6710\n",
      "Epoch 19/20\n",
      "7982/7982 [==============================] - 2s 211us/step - loss: 0.7225 - acc: 0.7859 - val_loss: 1.9023 - val_acc: 0.6650\n",
      "Epoch 20/20\n",
      "7982/7982 [==============================] - 2s 224us/step - loss: 0.7072 - acc: 0.7880 - val_loss: 1.9055 - val_acc: 0.6700\n"
     ]
    },
    {
     "data": {
      "text/plain": [
       "<keras.callbacks.History at 0x7f8c96574dd8>"
      ]
     },
     "execution_count": 32,
     "metadata": {},
     "output_type": "execute_result"
    }
   ],
   "source": [
    "model = models.Sequential()\n",
    "model.add(layers.Dense(64, activation='relu', input_shape=(10000,)))\n",
    "model.add(layers.Dense(4, activation='relu'))\n",
    "model.add(layers.Dense(46, activation='softmax'))\n",
    "\n",
    "model.compile(optimizer='rmsprop',\n",
    "              loss='categorical_crossentropy',\n",
    "              metrics=['accuracy'])\n",
    "\n",
    "model.fit(partial_x_train,\n",
    "          partial_y_train,\n",
    "          epochs=20,\n",
    "          batch_size=128,\n",
    "          validation_data=(x_val, y_val))"
   ]
  },
  {
   "cell_type": "markdown",
   "metadata": {},
   "source": [
    "The model's training accuracy peaks a lot lower, because the 4 hiddeen units in the middle layer is not sufficient for the network to capture the complexity of the data."
   ]
  },
  {
   "cell_type": "markdown",
   "metadata": {},
   "source": [
    "# Predicting House Prices: A Regression Example"
   ]
  },
  {
   "cell_type": "markdown",
   "metadata": {},
   "source": [
    "The two previous examples were considered classification problems. This example is a regression problem, which the goal is to predict a continuous value instead of a discreate label."
   ]
  },
  {
   "cell_type": "markdown",
   "metadata": {},
   "source": [
    "## The Boston Housing Price Dataset"
   ]
  },
  {
   "cell_type": "markdown",
   "metadata": {},
   "source": [
    "We'll attempt to predict the median price of homes in a given Boston suburb in the mid-1970s. This dataset has relatively few datapoints."
   ]
  },
  {
   "cell_type": "code",
   "execution_count": 33,
   "metadata": {},
   "outputs": [
    {
     "name": "stdout",
     "output_type": "stream",
     "text": [
      "Downloading data from https://s3.amazonaws.com/keras-datasets/boston_housing.npz\n",
      "57344/57026 [==============================] - 1s 9us/step\n",
      "(404, 13)\n",
      "(102, 13)\n"
     ]
    }
   ],
   "source": [
    "from keras.datasets import boston_housing\n",
    "\n",
    "(train_data, train_targets), (test_data, test_targets) = boston_housing.load_data()\n",
    "\n",
    "print(train_data.shape)\n",
    "print(test_data.shape)"
   ]
  },
  {
   "cell_type": "code",
   "execution_count": 34,
   "metadata": {},
   "outputs": [
    {
     "name": "stdout",
     "output_type": "stream",
     "text": [
      "[15.2 42.3 50.  21.1 17.7 18.5 11.3 15.6 15.6 14.4 12.1 17.9 23.1 19.9\n",
      " 15.7  8.8 50.  22.5 24.1 27.5 10.9 30.8 32.9 24.  18.5 13.3 22.9 34.7\n",
      " 16.6 17.5 22.3 16.1 14.9 23.1 34.9 25.  13.9 13.1 20.4 20.  15.2 24.7\n",
      " 22.2 16.7 12.7 15.6 18.4 21.  30.1 15.1 18.7  9.6 31.5 24.8 19.1 22.\n",
      " 14.5 11.  32.  29.4 20.3 24.4 14.6 19.5 14.1 14.3 15.6 10.5  6.3 19.3\n",
      " 19.3 13.4 36.4 17.8 13.5 16.5  8.3 14.3 16.  13.4 28.6 43.5 20.2 22.\n",
      " 23.  20.7 12.5 48.5 14.6 13.4 23.7 50.  21.7 39.8 38.7 22.2 34.9 22.5\n",
      " 31.1 28.7 46.  41.7 21.  26.6 15.  24.4 13.3 21.2 11.7 21.7 19.4 50.\n",
      " 22.8 19.7 24.7 36.2 14.2 18.9 18.3 20.6 24.6 18.2  8.7 44.  10.4 13.2\n",
      " 21.2 37.  30.7 22.9 20.  19.3 31.7 32.  23.1 18.8 10.9 50.  19.6  5.\n",
      " 14.4 19.8 13.8 19.6 23.9 24.5 25.  19.9 17.2 24.6 13.5 26.6 21.4 11.9\n",
      " 22.6 19.6  8.5 23.7 23.1 22.4 20.5 23.6 18.4 35.2 23.1 27.9 20.6 23.7\n",
      " 28.  13.6 27.1 23.6 20.6 18.2 21.7 17.1  8.4 25.3 13.8 22.2 18.4 20.7\n",
      " 31.6 30.5 20.3  8.8 19.2 19.4 23.1 23.  14.8 48.8 22.6 33.4 21.1 13.6\n",
      " 32.2 13.1 23.4 18.9 23.9 11.8 23.3 22.8 19.6 16.7 13.4 22.2 20.4 21.8\n",
      " 26.4 14.9 24.1 23.8 12.3 29.1 21.  19.5 23.3 23.8 17.8 11.5 21.7 19.9\n",
      " 25.  33.4 28.5 21.4 24.3 27.5 33.1 16.2 23.3 48.3 22.9 22.8 13.1 12.7\n",
      " 22.6 15.  15.3 10.5 24.  18.5 21.7 19.5 33.2 23.2  5.  19.1 12.7 22.3\n",
      " 10.2 13.9 16.3 17.  20.1 29.9 17.2 37.3 45.4 17.8 23.2 29.  22.  18.\n",
      " 17.4 34.6 20.1 25.  15.6 24.8 28.2 21.2 21.4 23.8 31.  26.2 17.4 37.9\n",
      " 17.5 20.   8.3 23.9  8.4 13.8  7.2 11.7 17.1 21.6 50.  16.1 20.4 20.6\n",
      " 21.4 20.6 36.5  8.5 24.8 10.8 21.9 17.3 18.9 36.2 14.9 18.2 33.3 21.8\n",
      " 19.7 31.6 24.8 19.4 22.8  7.5 44.8 16.8 18.7 50.  50.  19.5 20.1 50.\n",
      " 17.2 20.8 19.3 41.3 20.4 20.5 13.8 16.5 23.9 20.6 31.5 23.3 16.8 14.\n",
      " 33.8 36.1 12.8 18.3 18.7 19.1 29.  30.1 50.  50.  22.  11.9 37.6 50.\n",
      " 22.7 20.8 23.5 27.9 50.  19.3 23.9 22.6 15.2 21.7 19.2 43.8 20.3 33.2\n",
      " 19.9 22.5 32.7 22.  17.1 19.  15.  16.1 25.1 23.7 28.7 37.2 22.6 16.4\n",
      " 25.  29.8 22.1 17.4 18.1 30.3 17.5 24.7 12.6 26.5 28.7 13.3 10.4 24.4\n",
      " 23.  20.  17.8  7.  11.8 24.4 13.8 19.4 25.2 19.4 19.4 29.1]\n"
     ]
    }
   ],
   "source": [
    "print(train_targets)"
   ]
  },
  {
   "cell_type": "markdown",
   "metadata": {},
   "source": [
    "## Preparing the Data"
   ]
  },
  {
   "cell_type": "markdown",
   "metadata": {},
   "source": [
    "Best practice is to use feature-normalisation. This is subtracting the feature's mean from the feature, and then divinding by the std. This leaves the feature centred at 0 with a unit std."
   ]
  },
  {
   "cell_type": "code",
   "execution_count": 35,
   "metadata": {},
   "outputs": [],
   "source": [
    "mean = train_data.mean(axis=0)\n",
    "train_data -= mean\n",
    "std = train_data.std(axis=0)\n",
    "train_data /= std\n",
    "\n",
    "test_data -= mean\n",
    "test_data /= std"
   ]
  },
  {
   "cell_type": "markdown",
   "metadata": {},
   "source": [
    "## Building the Network"
   ]
  },
  {
   "cell_type": "code",
   "execution_count": 54,
   "metadata": {},
   "outputs": [],
   "source": [
    "from keras import models\n",
    "from keras import layers\n",
    "\n",
    "def build_model():\n",
    "    model = models.Sequential()\n",
    "    model.add(layers.Dense(64, activation='relu', input_shape=(train_data.shape[1],)))\n",
    "    model.add(layers.Dense(64, activation='relu'))\n",
    "    model.add(layers.Dense(1))\n",
    "    model.compile(optimizer='rmsprop', loss='mse', metrics=['mae'])\n",
    "    return model"
   ]
  },
  {
   "cell_type": "markdown",
   "metadata": {},
   "source": [
    "The network ends in a single unit with no activation function. This is because any activation funcion would constrain the range of the output.\n",
    "\n",
    "We are also using the `mse` (mean squared error) as our loss function: the square distance between our predictions and the targets. This is common for regression problems. We are also monitoring the `mae` (mean absolute error), which is the absolute value of the difference between the predictions and the targets."
   ]
  },
  {
   "cell_type": "markdown",
   "metadata": {},
   "source": [
    "## Validating with k-Fold validation."
   ]
  },
  {
   "cell_type": "code",
   "execution_count": 55,
   "metadata": {},
   "outputs": [
    {
     "name": "stdout",
     "output_type": "stream",
     "text": [
      "Processing fold # 0\n",
      "Processing fold # 1\n",
      "Processing fold # 2\n",
      "Processing fold # 3\n",
      "[2.10990566074258, 2.648499602138406, 2.9676132249360037, 2.4146142891137905]\n",
      "2.5351581942326953\n"
     ]
    }
   ],
   "source": [
    "import numpy as np\n",
    "\n",
    "k = 4\n",
    "num_val_samples = len(train_data) // k\n",
    "num_epochs = 100\n",
    "all_scores = []\n",
    "\n",
    "for i in range(k):\n",
    "    print('Processing fold #', i)\n",
    "    val_data = train_data[i * num_val_samples: (i + 1) * num_val_samples]\n",
    "    val_targets = train_targets[i * num_val_samples: (i + 1) * num_val_samples]\n",
    "    \n",
    "    partial_train_data = np.concatenate(\n",
    "        [train_data[:i * num_val_samples],\n",
    "         train_data[(i + 1) * num_val_samples:]],\n",
    "        axis=0)\n",
    "    \n",
    "    partial_train_targets = np.concatenate(\n",
    "        [train_targets[:i * num_val_samples],\n",
    "         train_targets[(i + 1) * num_val_samples:]],\n",
    "        axis=0)\n",
    "    \n",
    "    model = build_model()\n",
    "    model.fit(partial_train_data, partial_train_targets,\n",
    "              epochs=num_epochs, batch_size=1, verbose=0)\n",
    "    val_mse, val_mae = model.evaluate(val_data, val_targets, verbose=0)\n",
    "    all_scores.append(val_mae)\n",
    "    \n",
    "print(all_scores)\n",
    "print(np.mean(all_scores))"
   ]
  },
  {
   "cell_type": "code",
   "execution_count": 56,
   "metadata": {},
   "outputs": [
    {
     "name": "stdout",
     "output_type": "stream",
     "text": [
      "Processing fold # 0\n",
      "Processing fold # 1\n",
      "Processing fold # 2\n",
      "Processing fold # 3\n"
     ]
    }
   ],
   "source": [
    "num_epochs = 500\n",
    "all_mae_histories = []\n",
    "\n",
    "for i in range(k):\n",
    "    print('Processing fold #', i)\n",
    "    val_data = train_data[i * num_val_samples: (i + 1) * num_val_samples]\n",
    "    val_targets = train_targets[i * num_val_samples: (i + 1) * num_val_samples]\n",
    "    \n",
    "    partial_train_data = np.concatenate(\n",
    "        [train_data[:i * num_val_samples],\n",
    "         train_data[(i + 1) * num_val_samples:]],\n",
    "        axis=0)\n",
    "    \n",
    "    partial_train_targets = np.concatenate(\n",
    "        [train_targets[:i * num_val_samples],\n",
    "         train_targets[(i + 1) * num_val_samples:]],\n",
    "        axis=0)\n",
    "    \n",
    "    model = build_model()\n",
    "    history = model.fit(partial_train_data, partial_train_targets,\n",
    "                        validation_data=(val_data, val_targets),\n",
    "                        epochs=num_epochs, batch_size=1, verbose=0)\n",
    "    mae_history = history.history['val_mean_absolute_error']\n",
    "    all_mae_histories.append(mae_history)"
   ]
  },
  {
   "cell_type": "code",
   "execution_count": 57,
   "metadata": {},
   "outputs": [
    {
     "name": "stdout",
     "output_type": "stream",
     "text": [
      "[4.575608739758482, 3.370795464751744, 2.9499539526382295, 2.8104298221002715, 2.727688968771755, 2.7844255371849136, 2.5731425403368355, 2.6027384996414185, 2.775004927474673, 2.4973772150455136, 2.4763842349005216, 2.5075647063774635, 2.5699263828815804, 2.510572086466421, 2.3761075628866064, 2.344659536191733, 2.471906086005787, 2.3275888520892303, 2.4350316689746214, 2.4035526455038845, 2.480516031236932, 2.384196718140404, 2.369250013096498, 2.3801682632748444, 2.4659365675236917, 2.3743084185194263, 2.4798054246619197, 2.3543419613696557, 2.533188861195404, 2.3897187993077944, 2.3991825214707028, 2.5189064929981044, 2.453434865073402, 2.5492687555822995, 2.4352266257352166, 2.3138446666226526, 2.44591746707954, 2.292775226111459, 2.47575837550777, 2.353981968199853, 2.347864025890237, 2.581027610467212, 2.3849024359542543, 2.3874275589933487, 2.3157514345527876, 2.4227952496840226, 2.347555835648339, 2.380400485331469, 2.3326267712187057, 2.3215743976064247, 2.294466378665206, 2.356171442730592, 2.339309805690652, 2.3382779418832005, 2.361915379467577, 2.466782514411624, 2.415637465986875, 2.3245662273746905, 2.388284611229849, 2.2972455225368535, 2.2902480127787825, 2.2753466993275255, 2.326516616462481, 2.4514366577167324, 2.4301326593550123, 2.35774032432254, 2.440782270809211, 2.5120878408450893, 2.378229269886961, 2.300490739321945, 2.337939300159417, 2.3861237575512124, 2.3639097957327815, 2.302588916060948, 2.3647278145988393, 2.296483458858906, 2.462440854251975, 2.607336646259421, 2.409618642070506, 2.5689916657929373, 2.4377464280270114, 2.3912266056136326, 2.3108655249718395, 2.49767529964447, 2.361376634918817, 2.4082471155884244, 2.3260663806801976, 2.339115129839076, 2.422259158427172, 2.3794116466352255, 2.384770378027812, 2.437372368161041, 2.526928451981875, 2.5864387077860314, 2.485662591339338, 2.4509393519694265, 2.3647162996896425, 2.3821573694153586, 2.472248964970655, 2.400255624610599, 2.4487505584660143, 2.5012916963879426, 2.4420505337195824, 2.5140475247165943, 2.572279470981938, 2.307606881207759, 2.5400194921115835, 2.542235236356754, 2.5404992032759264, 2.4027724572927642, 2.4624728932239037, 2.487757904694812, 2.5077671815853306, 2.420825752881494, 2.4965991572578354, 2.625859644153331, 2.5117361344913443, 2.564181606368263, 2.581151804121414, 2.574757895847358, 2.5923263271256247, 2.546734899577528, 2.7297505553406065, 2.486323449871328, 2.524218206358428, 2.511245899861402, 2.6008472737699453, 2.544782038962487, 2.454286531646653, 2.4850459960427616, 2.4828387191980195, 2.45090385238723, 2.665315816898157, 2.429215988310257, 2.5684778111996036, 2.59388795347497, 2.5890010323854953, 2.6259578171342906, 2.55846643211818, 2.5346916630716607, 2.7936559679484607, 2.7117732987545504, 2.56840717792511, 2.573980659541517, 2.524570275061201, 2.583552283815818, 2.516902289768257, 2.5695136773704306, 2.605102789283979, 2.529720964998302, 2.607318662180759, 2.6023974477654637, 2.703314444806316, 2.585212489165882, 2.647278913176886, 2.5225826206773814, 2.5854197079592414, 2.865248016791768, 2.7108840517478416, 2.610883939384234, 2.6773795314354474, 2.641910953096824, 2.656234627903098, 2.823668893020932, 2.656388263891239, 2.762721624704871, 2.591052050637727, 2.6263172000941664, 2.567975047791358, 2.604865857870272, 2.8465589638983846, 2.739068927151142, 2.578436289683427, 2.5738093793982326, 2.7370251063073034, 2.6180813442362414, 2.7028698921203613, 2.7333540869231268, 2.698911990269576, 2.5998610742021313, 2.6582136838743002, 2.687814435156265, 2.6996385106945984, 2.5534650488655166, 2.7048374556078767, 2.718871749273621, 2.7974342615297525, 2.647184115825313, 2.7351465992408226, 2.6651171906159656, 2.7132110949790125, 2.730806722499356, 2.7823684286363055, 2.696222003143613, 2.678829668772103, 2.736794746748292, 2.6537511325118563, 2.6814182064320784, 2.625311152769787, 2.6185743914972437, 2.6914839119014173, 2.7064059654084764, 2.7385241914503644, 2.702100206129622, 2.725387403280428, 2.6265946697480604, 2.747280530410238, 2.721320522893773, 2.692949926499093, 2.7486698237976226, 2.6533924412019183, 2.68546724201429, 2.7915472571212465, 2.6388911528162433, 2.629636392735019, 2.7043351938228795, 2.68609353811434, 2.7311573075776048, 2.7945223586394055, 2.851459654250948, 2.745234716056597, 2.6421873298021827, 2.7432857244321616, 2.744161153783893, 2.749501984898407, 2.742089599666029, 2.6919494454223334, 2.7137678838012245, 2.7694456636315525, 2.6574595883341114, 2.801645989465241, 2.731783109136147, 2.628951876470358, 2.740387579002003, 2.77727200253175, 2.815334445179099, 2.7657420564405992, 2.819294370046937, 2.788044321655047, 2.7161818211621576, 2.7907586262957884, 2.698410427216256, 2.7242918073540867, 2.6320419972485833, 2.6248719196508428, 2.6813531665518733, 2.7871917627825598, 2.7527710400005376, 2.773847150330496, 2.8601584564341174, 2.7514568000736803, 2.779324700336645, 2.6661528903659026, 2.6793360108196147, 2.8241342258925486, 2.7480855070718446, 2.703070595712945, 2.6730361988048745, 2.6978823454073164, 2.7242716444600923, 2.773473184887725, 2.822619052216558, 2.753087742493884, 2.8605715425887914, 2.7659982360235533, 2.7232614354331894, 2.6600487066967653, 2.756128982742234, 2.789355804424475, 2.749107421034634, 2.7818026979370876, 2.7433449974154485, 2.7312232645431367, 2.6964233299293143, 2.780119037864232, 2.6911648429266295, 2.801642112212606, 2.767872947277409, 2.757858460492427, 2.7132346854351534, 2.784528138613937, 2.7264394500468034, 2.739914740666304, 2.676253881784949, 2.7368932915206003, 2.8900482678177335, 2.8362272139823084, 2.7627219681692594, 2.746047057727776, 2.735198869563565, 2.8088616510429008, 2.835307480085014, 2.8159787631270907, 2.8314167084080157, 2.7352258545337342, 2.8214287746070634, 2.857778833644225, 2.7685887978808714, 2.8745439206019485, 2.831351221197903, 2.8045615500742844, 2.817708465132383, 2.7759543126172357, 2.859535325871836, 2.855057133306371, 2.8042400780290664, 2.8364779241014233, 2.743188669185827, 2.7698904547360863, 2.843009068234132, 2.816067288417627, 2.7815983236426174, 2.803181937425444, 2.844719919827905, 2.7103312393226244, 2.834758776249272, 2.88223922370684, 2.712501871703875, 2.7151238764866745, 2.778778098597385, 2.7968693298868614, 2.780508809750623, 2.8685057222253025, 2.8699302992018145, 2.7633307523066453, 2.913474461819866, 3.0009809744240035, 2.8012448938766332, 2.8946969886817553, 2.685637261607859, 2.7560279747047045, 2.730777369867457, 2.865864916603164, 2.8387414405841636, 2.843913014572446, 2.8442410513906196, 2.712519574873518, 2.797389652469371, 2.8350368962429537, 2.831298306436822, 2.7215422533526277, 2.758853649148847, 2.814883622792688, 2.859318268181074, 2.746257237868734, 2.837127690268035, 2.791115953190492, 2.8021048083163724, 2.7915815929375074, 2.8134042886224124, 2.8626588075467856, 2.899086349081285, 2.748814954616056, 2.8083194565064833, 2.8043516697269855, 2.7831194294561254, 2.8711355558716423, 2.7557889034252354, 2.8006426485458222, 2.8137410666682934, 2.824470535363301, 2.807915168233437, 2.7840577859689697, 2.792471419466604, 2.85276203108306, 2.850144177380175, 2.8388614312256917, 2.8592551852216816, 2.83718214766814, 2.879831067406305, 2.885947588646766, 2.901852356325282, 2.863763457477683, 2.967132747763454, 2.7884778162040336, 2.831424694250125, 2.90834652197243, 2.802446327587165, 2.873139036764013, 2.806407666442418, 2.9607821195432455, 2.886239404725556, 2.869051016203248, 2.8764418587826266, 2.9188197792166535, 2.8805341838610055, 2.8451619242677593, 2.8227550652947757, 2.858427466732441, 2.768186640031267, 2.8215346631437246, 2.909257436742877, 2.8017387944873016, 2.6882555850661625, 2.75127113101506, 2.811867268958894, 2.782261327941819, 2.86550781514385, 2.772392457074458, 2.8174455449132636, 2.8229571155982445, 2.8911385347347447, 2.78663699815769, 2.8857816209887512, 2.807715956527408, 2.8157703723057663, 2.7856655628374307, 2.873187826411559, 2.8085313114789456, 2.8336373225297073, 2.8270142892799757, 2.8718370718531094, 2.864423906449044, 2.779812959161135, 2.861695060635557, 2.854703208007435, 2.8280025378312215, 2.7682169959096625, 2.7523603403922356, 2.750624413537507, 2.86916178405875, 2.8027957264739687, 2.802647057146129, 2.830845455131908, 2.905967676993644, 2.6834722119982883, 2.7877958021541636, 3.021881337213044, 2.7767005804741736, 2.929791890748657, 2.8167439120830875, 2.8225485251681643, 2.7982105901925873, 2.8962704132098964, 2.830241092360846, 2.960049832221305, 2.8888614826863357, 2.888289176591552, 2.836354385508169, 2.877875044794366, 2.8023479032044363, 2.8061614260815158, 2.875734297355803, 2.8494356563775844, 2.8950562241053817, 2.7821419770174685, 2.8219514034762243, 2.8923779230306645, 2.907110286231088, 2.891120148177194, 2.932917797919547, 2.9708811646640894, 2.8895272465035466, 2.8849225882256384, 2.896629200123324, 2.883533507290453, 2.9054334706599168, 2.8841256717644117, 2.8095035328723417, 2.870902400205631, 2.801329445130754, 2.836762363367742, 2.7959759353411084, 2.936923047103504, 2.822892109946449, 2.8097916817901156, 2.9155986132008014, 2.8804526954594225, 2.950843173678559, 2.854286714355544, 2.7982597362877115, 2.855771023448151, 2.712499963174952, 2.8337692636074405, 2.923095105898262, 2.8543590814760416, 2.8540021617813864, 2.79455554013205, 2.8504161598658797, 2.9171124743943166, 2.905015533513362, 2.789717287120253, 2.820920850970957, 2.8315101472458037, 2.7898597776299656, 2.8920088345461554, 2.792052645494442, 2.9577737869602623, 2.8860722945468265, 2.9161576929658946, 2.8627097842716935, 2.846783982645167, 2.870149809535187, 2.8485183597791313, 2.8257342199287794, 2.7877849517482343, 2.87470282304405, 2.9278377530598405, 2.7536986240065926, 2.856257885989576]\n"
     ]
    }
   ],
   "source": [
    "average_mae_history = [np.mean([x[i] for x in all_mae_histories]) for i in range(num_epochs)]\n",
    "print(average_mae_history)"
   ]
  },
  {
   "cell_type": "code",
   "execution_count": 58,
   "metadata": {},
   "outputs": [
    {
     "data": {
      "image/png": "[encoded data removed]",
      "text/plain": [
       "<Figure size 432x288 with 1 Axes>"
      ]
     },
     "metadata": {},
     "output_type": "display_data"
    }
   ],
   "source": [
    "import matplotlib.pyplot as plt\n",
    "\n",
    "plt.plot(range(1, len(average_mae_history) + 1), average_mae_history)\n",
    "plt.xlabel('Epochs')\n",
    "plt.ylabel('Validation MAE')\n",
    "plt.show()"
   ]
  },
  {
   "cell_type": "markdown",
   "metadata": {},
   "source": [
    "It's a little difficult to see the plot, due to scaling issues and relatively high variance. Let's remove the inital 10 points from the plot, and replace each remaining point with an exponential moving average. "
   ]
  },
  {
   "cell_type": "code",
   "execution_count": 62,
   "metadata": {},
   "outputs": [
    {
     "data": {
      "image/png": "[encoded data removed]",
      "text/plain": [
       "<Figure size 432x288 with 1 Axes>"
      ]
     },
     "metadata": {},
     "output_type": "display_data"
    }
   ],
   "source": [
    "def smooth_curve(points, factor=0.9):\n",
    "    smoothed_points = []\n",
    "    for point in points:\n",
    "        if smoothed_points:\n",
    "            previous = smoothed_points[-1]\n",
    "            smoothed_points.append(previous * factor + point * (1 - factor))\n",
    "        else:\n",
    "            smoothed_points.append(point)\n",
    "    return smoothed_points\n",
    "\n",
    "smooth_mae_history = smooth_curve(average_mae_history[10:])\n",
    "\n",
    "plt.plot(range(1, len(smooth_mae_history) + 1), smooth_mae_history)\n",
    "plt.xlabel('Epochs')\n",
    "plt.ylabel('Validation MAE')\n",
    "plt.show()"
   ]
  },
  {
   "cell_type": "markdown",
   "metadata": {},
   "source": [
    "## Training the final model"
   ]
  },
  {
   "cell_type": "code",
   "execution_count": 63,
   "metadata": {},
   "outputs": [
    {
     "name": "stdout",
     "output_type": "stream",
     "text": [
      "102/102 [==============================] - 0s 1ms/step\n",
      "2.784732884051753\n"
     ]
    }
   ],
   "source": [
    "model = build_modelld_model()\n",
    "model.fit(train_data, train_targets,\n",
    "          epochs=80, batch_size=16, verbose=0)\n",
    "test_mse_score, test_mae_score = model.evaluate(test_data, test_targets)\n",
    "\n",
    "print(test_mae_score)"
   ]
  }
 ],
 "metadata": {
  "kernelspec": {
   "display_name": "Python [conda env:keras]",
   "language": "python",
   "name": "conda-env-keras-py"
  },
  "language_info": {
   "codemirror_mode": {
    "name": "ipython",
    "version": 3
   },
   "file_extension": ".py",
   "mimetype": "text/x-python",
   "name": "python",
   "nbconvert_exporter": "python",
   "pygments_lexer": "ipython3",
   "version": "3.6.5"
  }
 },
 "nbformat": 4,
 "nbformat_minor": 2
}
